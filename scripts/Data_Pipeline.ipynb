{
 "cells": [
  {
   "attachments": {},
   "cell_type": "markdown",
   "metadata": {},
   "source": [
    "# Import Scripts and Libraries"
   ]
  },
  {
   "cell_type": "code",
   "execution_count": null,
   "metadata": {},
   "outputs": [],
   "source": [
    "import norm_heatmap\n",
    "import normalize\n",
    "import tools\n",
    "import matplotlib.pyplot as plt\n",
    "import pandas as pd\n",
    "import numpy as np\n",
    "import heatmap_workflow_tools as hwt\n",
    "import os\n",
    "import cv2"
   ]
  },
  {
   "cell_type": "markdown",
   "metadata": {},
   "source": [
    "# 1 - Setting up Filesystem\n",
    "### *User input required!*\n",
    "\n",
    "Before running the code, please ensure your filesystem consists of a parent directory with the ProDiVis repository and any dataset repositories cloned within. An example filesystem could look like the following:\n",
    "\n",
    "\n",
    "`📁<parent_directory>`\n",
    "```\n",
    "└── 📁ProDiVis\n",
    "    └──📁Scripts \n",
    "        └── Data_Pipeline.ipynb\n",
    "        └── *.py\n",
    "    └──📁data\n",
    "        └──📁signal_stack\n",
    "        └──📁normalization_stack\n",
    "```\n",
    "\n",
    "`└── 📁ProDiVis_Glioblastoma` <span style=\"color:green\"><em># clone if desired</em></span>\n",
    "\n",
    "`└── 📁Mouse_Hearts` <span style=\"color:green\"><em># clone if desired</em></span>\n",
    "\n",
    "The repositories containing the glioblastoma and mouse heart datasets can be found at the links below:\n",
    " - [**ProDiVis_Glioblastoma**]()\n",
    " - [**Mouse_Hearts**]()\n"
   ]
  },
  {
   "cell_type": "code",
   "execution_count": null,
   "metadata": {},
   "outputs": [],
   "source": [
    "# In quotes, type the path to the ProDiVis repository:\n",
    "WORKING_DIRECTORY = \"/home/asathler/franco/ProDiVis\""
   ]
  },
  {
   "attachments": {},
   "cell_type": "markdown",
   "metadata": {},
   "source": [
    "# 2. Pre-Analysis"
   ]
  },
  {
   "cell_type": "code",
   "execution_count": null,
   "metadata": {},
   "outputs": [],
   "source": [
    "\n",
    "stack_dir = os.path.join(WORKING_DIRECTORY, \"sample_data/green_soi/\")\n",
    "norm_dir = os.path.join(WORKING_DIRECTORY, \"sample_data/blue_ns/\")\n",
    "\n",
    "# What is your signal of interest (SOI) and normalization signal (NS) \n",
    "soi = \"Name of SOI\"\n",
    "ns = \"Name of NS\"\n",
    "\n",
    "# Replace with slice integers or decimal percentages. 'None' for no boundary\n",
    "zmin, zmax = None, None\n",
    "\n",
    "# Do you want to multiply the pixels in the front and side views (int)?\n",
    "z_multiplier =  10\n",
    "\n",
    "# Do you want to save your figures? (boolean)\n",
    "save_figs = False\n",
    "\n",
    "# Adjust the lower and upper threshold (int)\n",
    "lower_thresh = 0\n",
    "upper_thresh = 254"
   ]
  },
  {
   "cell_type": "code",
   "execution_count": null,
   "metadata": {},
   "outputs": [],
   "source": [
    "stack_tiffs = tools.get_files(stack_dir)\n",
    "norm_tiffs = tools.get_files(norm_dir)\n",
    "zmin, zmax = hwt.process_zmin_zmax(zmin, zmax, stack_tiffs)\n",
    "print(f\"Processed ZMin and ZMax: {zmin}, {zmax}\")\n",
    "stack_name = os.path.basename(stack_dir)\n",
    "norm_name = os.path.basename(norm_dir)\n",
    "base_dir = os.path.basename(os.path.dirname(norm_dir))\n",
    "out_dir = os.path.abspath(os.path.join(os.path.abspath(''), '..', 'exported_data'))\n",
    "if not os.path.isdir(out_dir):\n",
    "    os.mkdir(out_dir)\n",
    "out_dir = os.path.join(out_dir, f\"{base_dir}_{stack_name}n{norm_name}_out\")\n",
    "if not os.path.isdir(out_dir):\n",
    "    os.mkdir(out_dir)"
   ]
  },
  {
   "attachments": {},
   "cell_type": "markdown",
   "metadata": {},
   "source": [
    "# Begin Analysis"
   ]
  },
  {
   "attachments": {},
   "cell_type": "markdown",
   "metadata": {},
   "source": [
    "### Determine Images Above Threshold"
   ]
  },
  {
   "attachments": {},
   "cell_type": "markdown",
   "metadata": {},
   "source": [
    "#### Normalization Signal"
   ]
  },
  {
   "cell_type": "code",
   "execution_count": null,
   "metadata": {},
   "outputs": [],
   "source": [
    "norm_imgs = normalize.analyze_images(norm_dir, lower_thresh)\n",
    "norm_imgs = normalize.images_used(norm_imgs, norm_tiffs, stack_tiffs)"
   ]
  },
  {
   "attachments": {},
   "cell_type": "markdown",
   "metadata": {},
   "source": [
    "#### Signal of Interest"
   ]
  },
  {
   "cell_type": "code",
   "execution_count": null,
   "metadata": {},
   "outputs": [],
   "source": [
    "soi_imgs = normalize.analyze_images(stack_dir, lower_thresh)\n",
    "soi_imgs = normalize.images_used(soi_imgs, norm_tiffs, stack_tiffs)"
   ]
  },
  {
   "attachments": {},
   "cell_type": "markdown",
   "metadata": {},
   "source": [
    "# Visualise Image Histograms and Distribution"
   ]
  },
  {
   "attachments": {},
   "cell_type": "markdown",
   "metadata": {},
   "source": [
    "#### SOI Depth Loss"
   ]
  },
  {
   "cell_type": "code",
   "execution_count": null,
   "metadata": {},
   "outputs": [],
   "source": [
    "nbins = 10\n",
    "histograms = np.zeros((len(stack_tiffs[zmin:zmax]), nbins))\n",
    "for idx, img in enumerate(stack_tiffs[zmin:zmax]):\n",
    "    tiff = normalize.thresh(img, lower_thresh, upper_thresh, 1)\n",
    "    hist, bins = np.histogram(tiff, bins = nbins)\n",
    "    histograms[idx] = hist\n",
    "histograms[histograms == 0] = 1\n",
    "bin_labels = [\"{}-{}\".format(round(bins[i-1],1), round(bins[i],1)) for i in range(1, len(bins))]\n",
    "hwt.plot_histograms(histograms, f\"{base_dir} {stack_name} z{zmin}-{zmax} SOI Heatmap of Histograms\",\n",
    "os.path.join(out_dir, f\"{base_dir}_{stack_name}_z{zmin}-{zmax}_SOI_Histograms.pdf\"), bin_labels, save_figs)"
   ]
  },
  {
   "cell_type": "code",
   "execution_count": null,
   "metadata": {},
   "outputs": [],
   "source": [
    "stack_means = np.array([])\n",
    "for img in stack_tiffs[zmin:zmax]:\n",
    "    mean = normalize.tiff_stats_thresh(img, lower_thresh, upper_thresh, 1)\n",
    "    stack_means = np.append(stack_means, mean)\n",
    "hwt.plot_MSI(stack_means,\n",
    "             f\"{base_dir} {stack_name} z{zmin}-{zmax}\",\n",
    "             os.path.join(out_dir, f\"{base_dir}_{stack_name}_z{zmin}-{zmax}_SOI_Intensity.pdf\"), save_figs)"
   ]
  },
  {
   "attachments": {},
   "cell_type": "markdown",
   "metadata": {},
   "source": [
    "### NS Depth Loss"
   ]
  },
  {
   "cell_type": "code",
   "execution_count": null,
   "metadata": {},
   "outputs": [],
   "source": [
    "nbins = 10\n",
    "histograms = np.zeros((len(stack_tiffs[zmin:zmax]), nbins))\n",
    "for idx, img in enumerate(norm_tiffs[zmin:zmax]):\n",
    "    tiff = normalize.thresh(img, 0, 254, 1)\n",
    "    hist, bins = np.histogram(tiff, bins = nbins)\n",
    "    histograms[idx] = hist\n",
    "histograms[histograms == 0] = 1\n",
    "bin_labels = [\"{}-{}\".format(round(bins[i-1],1), round(bins[i],1)) for i in range(1, len(bins))]\n",
    "hwt.plot_histograms(histograms, f\"{base_dir} {stack_name} z{zmin}-{zmax} NS Heatmap of Histograms\",\n",
    "os.path.join(out_dir, f\"{base_dir}_{stack_name}_z{zmin}-{zmax}_NS_Histograms.pdf\"), bin_labels, save_figs)"
   ]
  },
  {
   "cell_type": "code",
   "execution_count": null,
   "metadata": {},
   "outputs": [],
   "source": [
    "norm_means = np.array([])\n",
    "for norm_tiff in norm_tiffs[zmin:zmax]:\n",
    "    mean = normalize.tiff_stats_thresh(norm_tiff, 0, 254, 1)\n",
    "    norm_means = np.append(norm_means, mean)\n",
    "hwt.plot_MSI(norm_means,\n",
    "             f\"{base_dir} {norm_name} z{zmin}-{zmax}\",\n",
    "             os.path.join(out_dir, f\"{base_dir}_{stack_name}_z{zmin}-{zmax}_NS_Intensity.pdf\"), save_figs)"
   ]
  },
  {
   "attachments": {},
   "cell_type": "markdown",
   "metadata": {},
   "source": [
    "### NS vs SOI"
   ]
  },
  {
   "cell_type": "code",
   "execution_count": null,
   "metadata": {},
   "outputs": [],
   "source": [
    "hwt.plot_MSI_soi_ns(soi, ns, stack_means, norm_means, f\"{base_dir} {stack_name} {norm_name} z{zmin}-{zmax}\",\n",
    "             os.path.join(out_dir, f\"{base_dir}_{stack_name}n{norm_name}_z{zmin}-{zmax}_SOI_vs_NS.pdf\"), save_figs)"
   ]
  },
  {
   "attachments": {},
   "cell_type": "markdown",
   "metadata": {},
   "source": [
    "# SNIP Raw Heatmap"
   ]
  },
  {
   "cell_type": "code",
   "execution_count": null,
   "metadata": {},
   "outputs": [],
   "source": [
    "imgs = norm_heatmap.stack(stack_tiffs[zmin:zmax], ['z', 'x', 'y'], z_multiplier)\n",
    "hwt.plot_MIP(imgs, f\"{base_dir} {stack_name} z{zmin}-{zmax}\", \n",
    "                os.path.join(out_dir, f\"{base_dir}_{stack_name}_z{zmin}-{zmax}_HeatMap.pdf\"), save_figs)"
   ]
  },
  {
   "attachments": {},
   "cell_type": "markdown",
   "metadata": {},
   "source": [
    "# Normalization"
   ]
  },
  {
   "cell_type": "code",
   "execution_count": null,
   "metadata": {},
   "outputs": [],
   "source": [
    "norm_stack_tiffs = normalize.mean_normalizer(stack_tiffs[zmin:zmax], norm_tiffs[zmin:zmax], lower_thresh, upper_thresh, True, False)"
   ]
  },
  {
   "attachments": {},
   "cell_type": "markdown",
   "metadata": {},
   "source": [
    "#### Pixel Distribution Post-Normalization"
   ]
  },
  {
   "cell_type": "code",
   "execution_count": null,
   "metadata": {},
   "outputs": [],
   "source": [
    "norm_stack_means = np.array([])\n",
    "for norm_stack_tiff in norm_stack_tiffs[zmin:zmax]:\n",
    "    mean = normalize.tiff_stats_thresh(norm_stack_tiff, 0, 255, 1)\n",
    "    norm_stack_means = np.append(norm_stack_means, mean)\n",
    "hwt.plot_MSI(norm_stack_means,\n",
    "             f\"{base_dir} {stack_name} norm {norm_name} z{zmin}-{zmax}\",\n",
    "             os.path.join(out_dir, f\"{base_dir}_{stack_name}n{norm_name}_z{zmin}-{zmax}_Normalized_SOI_Intensity.pdf\"), save_figs)\n",
    "\n",
    "hwt.plot_MSI_grouped(stack_means, norm_means, norm_stack_means, f\"{base_dir} {stack_name} norm {norm_name} z{zmin}-{zmax}_Grouped\",\n",
    "                os.path.join(out_dir, f\"{base_dir}_{stack_name}n{norm_name}_z{zmin}-{zmax}_Normalized_Intensity_grouped.pdf\"), save_figs)"
   ]
  },
  {
   "attachments": {},
   "cell_type": "markdown",
   "metadata": {},
   "source": [
    "# SNIP Normalized Heatmap"
   ]
  },
  {
   "cell_type": "code",
   "execution_count": null,
   "metadata": {},
   "outputs": [],
   "source": [
    "imgs = norm_heatmap.stack(norm_stack_tiffs[zmin:zmax], ['z', 'x', 'y'], z_multiplier)\n",
    "hwt.plot_MIP(imgs, f\"{base_dir} {stack_name} norm {norm_name} z{zmin}-{zmax}\", \n",
    "                os.path.join(out_dir, f\"{base_dir}_{stack_name}n{stack_name}_z{zmin}-{zmax}_Normalized_HeatMap.pdf\"), save_figs)"
   ]
  },
  {
   "attachments": {},
   "cell_type": "markdown",
   "metadata": {},
   "source": [
    "# Image Rescaling"
   ]
  },
  {
   "cell_type": "code",
   "execution_count": null,
   "metadata": {},
   "outputs": [],
   "source": [
    "tools.stack_gui(norm_stack_tiffs, norm_tiffs)"
   ]
  },
  {
   "attachments": {},
   "cell_type": "markdown",
   "metadata": {},
   "source": [
    "#### Insert Path to Scaled Images"
   ]
  },
  {
   "cell_type": "code",
   "execution_count": null,
   "metadata": {},
   "outputs": [],
   "source": [
    "scaled_norm_stack_tiffs = os.path.abspath(\"/Users/Kyle/Desktop/prodivis_public_repo/prodivis/sample_data/scaled_green_soi_rn_blue_ns_254std_nblue_ns\")\n",
    "scaled_norm_stack_tiffs = tools.get_files(scaled_norm_stack_tiffs)"
   ]
  },
  {
   "attachments": {},
   "cell_type": "markdown",
   "metadata": {},
   "source": [
    "#### Pixel Distribution of Scaled Images"
   ]
  },
  {
   "cell_type": "code",
   "execution_count": null,
   "metadata": {},
   "outputs": [],
   "source": [
    "nbins = 10\n",
    "histograms = np.zeros((len(scaled_norm_stack_tiffs[zmin:zmax]), nbins))\n",
    "for idx, img in enumerate(scaled_norm_stack_tiffs[zmin:zmax]):\n",
    "    tiff = normalize.thresh(img, 0, 255, 1)\n",
    "    hist, bins = np.histogram(tiff, bins = nbins)\n",
    "    histograms[idx] = hist\n",
    "histograms[histograms == 0] = 1\n",
    "bin_labels = [\"{}-{}\".format(round(bins[i-1],1), round(bins[i],1)) for i in range(1, len(bins))]\n",
    "hwt.plot_histograms(histograms, f\"{base_dir} {stack_name} z{zmin}-{zmax} Normalized SOI Heatmap of Histograms\",\n",
    "os.path.join(out_dir, f\"{base_dir}_{stack_name}_z{zmin}-{zmax}_Scaled_Normalized_SOI_Histograms.pdf\"), bin_labels, save_figs)"
   ]
  },
  {
   "attachments": {},
   "cell_type": "markdown",
   "metadata": {},
   "source": [
    "#### Normalized Depth Loss of Scaled Images"
   ]
  },
  {
   "cell_type": "code",
   "execution_count": null,
   "metadata": {},
   "outputs": [],
   "source": [
    "scaled_norm_stack_means = np.array([])\n",
    "for scaled_norm_stack_tiff in scaled_norm_stack_tiffs[zmin:zmax]:\n",
    "    mean = normalize.tiff_stats_thresh(scaled_norm_stack_tiff, 0, 255, 1)\n",
    "    scaled_norm_stack_means = np.append(scaled_norm_stack_means, mean)\n",
    "hwt.plot_MSI(scaled_norm_stack_means,\n",
    "             f\"Scaled_{base_dir} {stack_name} norm {norm_name} z{zmin}-{zmax}_\",\n",
    "             os.path.join(out_dir, f\"{base_dir}_{stack_name}n{norm_name}_z{zmin}-{zmax}_Scaled_Normalized_SOI_Intensity.pdf\"), save_figs)"
   ]
  },
  {
   "attachments": {},
   "cell_type": "markdown",
   "metadata": {},
   "source": [
    "# SNIP Normalized Heatmap of Scaled Images"
   ]
  },
  {
   "cell_type": "code",
   "execution_count": null,
   "metadata": {},
   "outputs": [],
   "source": [
    "scaled_imgs = norm_heatmap.stack(scaled_norm_stack_tiffs[zmin:zmax], ['z', 'x', 'y'], z_multiplier)\n",
    "hwt.plot_MIP(scaled_imgs, f\"{base_dir} {stack_name} norm {norm_name} z{zmin}-{zmax}\", \n",
    "                os.path.join(out_dir, f\"{base_dir}_{stack_name}n{stack_name}_z{zmin}-{zmax}_Scaled_Normalized_HeatMap.pdf\"), save_figs)"
   ]
  }
 ],
 "metadata": {
  "kernelspec": {
   "display_name": "prodivis",
   "language": "python",
   "name": "python3"
  },
  "language_info": {
   "codemirror_mode": {
    "name": "ipython",
    "version": 3
   },
   "file_extension": ".py",
   "mimetype": "text/x-python",
   "name": "python",
   "nbconvert_exporter": "python",
   "pygments_lexer": "ipython3",
   "version": "3.1.0"
  },
  "orig_nbformat": 4,
  "vscode": {
   "interpreter": {
    "hash": "ff3431025cdf4ad032e405a8f91ed819f1eecb2244599d348fb173dddb112472"
   }
  }
 },
 "nbformat": 4,
 "nbformat_minor": 2
}
